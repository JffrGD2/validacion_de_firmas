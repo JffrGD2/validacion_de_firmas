{
  "nbformat": 4,
  "nbformat_minor": 0,
  "metadata": {
    "colab": {
      "provenance": [],
      "authorship_tag": "ABX9TyMU8EwaG4eAdlwy/VjUrLJh",
      "include_colab_link": true
    },
    "kernelspec": {
      "name": "python3",
      "display_name": "Python 3"
    },
    "language_info": {
      "name": "python"
    }
  },
  "cells": [
    {
      "cell_type": "markdown",
      "metadata": {
        "id": "view-in-github",
        "colab_type": "text"
      },
      "source": [
        "<a href=\"https://colab.research.google.com/github/JffrGD2/validacion_de_firmas/blob/main/modelo.ipynb\" target=\"_parent\"><img src=\"https://colab.research.google.com/assets/colab-badge.svg\" alt=\"Open In Colab\"/></a>"
      ]
    },
    {
      "cell_type": "code",
      "source": [
        "#!pip install tensorflow opencv-python numpy matplotlib scikit-learn seaborn scikit-image flask keras fastapi uvicorn sqlalchemy\n",
        "\n",
        "\n",
        "import tensorflow as tf\n",
        "import cv2\n",
        "import numpy as np\n",
        "import matplotlib.pyplot as plt\n",
        "import seaborn as sns\n",
        "import sklearn\n",
        "from skimage import io, color, filters, feature"
      ],
      "metadata": {
        "id": "NZXcaZ1lSLi7"
      },
      "execution_count": null,
      "outputs": []
    },
    {
      "cell_type": "code",
      "source": [
        "import sqlite3\n",
        "import numpy as np\n",
        "from sklearn.model_selection import train_test_split\n",
        "\n",
        "conn = sqlite3.connect('/content/BDFirmas.db')\n",
        "cursor = conn.cursor()\n",
        "print(\"Conexión exitosa a la base de datos\")\n",
        "\n",
        "\n",
        "cursor.execute(\"SELECT name FROM sqlite_master WHERE type='table';\")\n",
        "tablas = cursor.fetchall()\n",
        "print(\"tablas =\", [tabla[0] for tabla in tablas])\n",
        "\n",
        "\n",
        "conn.close()"
      ],
      "metadata": {
        "colab": {
          "base_uri": "https://localhost:8080/"
        },
        "id": "8vIu0PyaTdRo",
        "outputId": "6a108b6a-2d29-46ac-b5bf-1d977bf7e8da"
      },
      "execution_count": null,
      "outputs": [
        {
          "output_type": "stream",
          "name": "stdout",
          "text": [
            "Conexión exitosa a la base de datos\n",
            "tablas = ['sqlite_sequence', 'firma', 'documento', 'usuario', 'firmas_usuarios', 'comparacion_firmas', 'registro_fraudes', 'tipos_documentos', 'parametros_sistema', 'historial_firmas', 'logs_actividad', 'dispositivos_registrados', 'intentos_firma']\n",
            "Conexión cerrada\n"
          ]
        }
      ]
    },
    {
      "cell_type": "code",
      "source": [
        "from google.colab import drive\n",
        "drive.mount('/content/drive')\n",
        "\n",
        "dataset_path = \"/content/drive/MyDrive/Colab Notebooks/processed_images_train\"\n"
      ],
      "metadata": {
        "colab": {
          "base_uri": "https://localhost:8080/"
        },
        "id": "pY0XrkerJB61",
        "outputId": "a010dd56-6dbb-40fa-8c42-3fa297361cda"
      },
      "execution_count": null,
      "outputs": [
        {
          "output_type": "stream",
          "name": "stdout",
          "text": [
            "Drive already mounted at /content/drive; to attempt to forcibly remount, call drive.mount(\"/content/drive\", force_remount=True).\n"
          ]
        }
      ]
    },
    {
      "cell_type": "markdown",
      "source": [
        "# Sección nueva"
      ],
      "metadata": {
        "id": "7ANNRUmNoHY6"
      }
    },
    {
      "cell_type": "code",
      "source": [
        "from google.colab import drive\n",
        "import os\n",
        "import cv2\n",
        "import numpy as np\n",
        "\n",
        "train = '/content/drive/MyDrive/Colab Notebooks/Processed_Images_Train'\n",
        "test = '/content/drive/MyDrive/Colab Notebooks/Processed_Images_Test'\n",
        "\n",
        "def preprocesar_imagenes(directorio, tamaño=(128, 128)):\n",
        "    imagenes_procesadas = []\n",
        "    etiquetas = []\n",
        "\n",
        "    if not os.path.exists(directorio):\n",
        "        print(f\"Error: El directorio '{directorio}' no existe.\")\n",
        "        return np.array([]), np.array([])\n",
        "\n",
        "    for etiqueta in os.listdir(directorio):\n",
        "        carpeta = os.path.join(directorio, etiqueta)\n",
        "\n",
        "        if not os.path.isdir(carpeta):\n",
        "            continue\n",
        "\n",
        "        for nombre_imagen in os.listdir(carpeta):\n",
        "            ruta_imagen = os.path.join(carpeta, nombre_imagen)\n",
        "\n",
        "            imagen = cv2.imread(ruta_imagen, cv2.IMREAD_GRAYSCALE)\n",
        "            if imagen is None:\n",
        "                print(f\"Advertencia: No se pudo cargar '{ruta_imagen}', se omitirá.\")\n",
        "                continue\n",
        "\n",
        "\n",
        "            imagen = cv2.resize(imagen, tamaño)\n",
        "            imagen = imagen.astype(np.float32) / 255.0\n",
        "\n",
        "            # datos\n",
        "            imagenes_procesadas.append(imagen)\n",
        "            etiquetas.append(etiqueta)\n",
        "\n",
        "    if not imagenes_procesadas:\n",
        "        print(\"Error: No se encontraron imágenes válidas.\")\n",
        "        return np.array([]), np.array([])\n",
        "\n",
        "    return np.array(imagenes_procesadas), np.array(etiquetas)\n",
        "\n",
        "# Preprocesar las imágenes de entrenamiento y prueba\n",
        "imagenes_train, etiquetas_train = preprocesar_imagenes(train)\n",
        "imagenes_test, etiquetas_test = preprocesar_imagenes(test)\n",
        "\n",
        "print(f\"Total imágenes de entrenamiento: {len(imagenes_train)}\")\n",
        "print(f\"Total imágenes de prueba: {len(imagenes_test)}\")\n",
        "\n",
        "if imagenes_train.size > 0:\n",
        "    print(f\"Dimensión de entrenamiento: {imagenes_train[0].shape}\")\n",
        "if imagenes_test.size > 0:\n",
        "    print(f\"Dimensión de prueba: {imagenes_test[0].shape}\")\n"
      ],
      "metadata": {
        "colab": {
          "base_uri": "https://localhost:8080/"
        },
        "id": "-PCuOJnywWmk",
        "outputId": "c6ff1b6a-7912-46df-cfb7-4dbb605a59a8"
      },
      "execution_count": null,
      "outputs": [
        {
          "output_type": "stream",
          "name": "stdout",
          "text": [
            "Total imágenes de entrenamiento: 186\n",
            "Total imágenes de prueba: 184\n",
            "Dimensión de entrenamiento: (128, 128)\n",
            "Dimensión de prueba: (128, 128)\n"
          ]
        }
      ]
    },
    {
      "cell_type": "code",
      "source": [
        "# confirmamos el tamaño de las imagenes que estén del mismo tamaño\n",
        "if imagenes_train.size > 0:\n",
        "    print(f\"Dimensión de entrenamiento: {imagenes_train[0].shape}\")\n",
        "if imagenes_test.size > 0:\n",
        "    print(f\"Dimensión de prueba: {imagenes_test[0].shape}\")\n"
      ],
      "metadata": {
        "id": "psTo8huxH6yL",
        "colab": {
          "base_uri": "https://localhost:8080/"
        },
        "outputId": "d7aa4ef5-e62f-422d-d055-64f4c5aaebbd"
      },
      "execution_count": null,
      "outputs": [
        {
          "output_type": "stream",
          "name": "stdout",
          "text": [
            "Dimensión de entrenamiento: (128, 128)\n",
            "Dimensión de prueba: (128, 128)\n"
          ]
        }
      ]
    },
    {
      "cell_type": "code",
      "source": [
        "import matplotlib.pyplot as plt # immportamos esto para mostrar graficas\n",
        "\n",
        "img = imagenes_train[13]\n",
        "plt.imshow(img, cmap='gray')\n",
        "plt.title(\"Etiqueta de esta imagen: \" + str(etiquetas_train[0]))  # para blanco y negr0\n",
        "plt.show()  # a ver qué sale ☠"
      ],
      "metadata": {
        "colab": {
          "base_uri": "https://localhost:8080/",
          "height": 452
        },
        "id": "v3pA4Ip9qAli",
        "outputId": "458039c2-315a-4f5f-ff2c-d4cc6d4c16b6"
      },
      "execution_count": null,
      "outputs": [
        {
          "output_type": "display_data",
          "data": {
            "text/plain": [
              "<Figure size 640x480 with 1 Axes>"
            ],
            "image/png": "[encoded data removed]"
          },
          "metadata": {}
        }
      ]
    },
    {
      "cell_type": "code",
      "source": [
        "resultado = \"Este es el resultado de la ejecución del modelo\"\n",
        "print(resultado)"
      ],
      "metadata": {
        "id": "LlBnHFWdwqEP"
      },
      "execution_count": null,
      "outputs": []
    }
  ]
}