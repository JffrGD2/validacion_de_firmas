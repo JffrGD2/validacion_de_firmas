{
 "cells": [
  {
   "cell_type": "code",
   "execution_count": null,
   "id": "29891923",
   "metadata": {},
   "outputs": [
    {
     "name": "stdout",
     "output_type": "stream",
     "text": [
      "Found 91 images belonging to 10 classes.\n",
      "Found 17 images belonging to 10 classes.\n",
      "{'064': 0, '064_forg': 1, '065': 2, '065_forg': 3, '066': 4, '066_forg': 5, '067': 6, '067_forg': 7, '068': 8, '068_forg': 9}\n"
     ]
    }
   ],
   "source": [
    "import tensorflow as tf\n",
    "from keras.preprocessing.image import ImageDataGenerator\n",
    "from keras.preprocessing import image\n",
    "import numpy as np\n",
    "\n",
    "gener = ImageDataGenerator(rescale=1.0/255.0, validation_split=0.2)\n",
    "entrenamiento = gener.flow_from_directory(\n",
    "    \"C:\\\\Users\\\\otice\\\\Downloads\\\\ReFirm\\\\datasign\\\\train\", #ruta al dataset\n",
    "    target_size= (150, 150),\n",
    "    batch_size= 32,\n",
    "    class_mode= \"categorical\",\n",
    "    subset= \"training\"\n",
    "    )\n",
    "\n",
    "validacion = gener.flow_from_directory(\n",
    "    \"C:\\\\Users\\\\otice\\\\Downloads\\\\ReFirm\\\\datasign\\\\train\", #ruta al dataset\n",
    "    target_size= (150, 150),\n",
    "    batch_size= 32,\n",
    "    class_mode= \"categorical\",\n",
    "    subset= \"validation\"\n",
    "    )\n",
    "\n",
    "clases_entr = entrenamiento.class_indices\n",
    "etiquetas = list(clases_entr.keys())\n",
    "print(clases_entr)"
   ]
  },
  {
   "cell_type": "code",
   "execution_count": 7,
   "id": "35149071",
   "metadata": {},
   "outputs": [
    {
     "name": "stdout",
     "output_type": "stream",
     "text": [
      "WARNING:tensorflow:From c:\\Users\\otice\\AppData\\Local\\Programs\\Python\\Python311\\Lib\\site-packages\\keras\\src\\backend.py:873: The name tf.get_default_graph is deprecated. Please use tf.compat.v1.get_default_graph instead.\n",
      "\n",
      "WARNING:tensorflow:From c:\\Users\\otice\\AppData\\Local\\Programs\\Python\\Python311\\Lib\\site-packages\\keras\\src\\layers\\pooling\\max_pooling2d.py:161: The name tf.nn.max_pool is deprecated. Please use tf.nn.max_pool2d instead.\n",
      "\n"
     ]
    }
   ],
   "source": [
    "modelo = tf.keras.models.Sequential([\n",
    "    tf.keras.layers.Conv2D(32, (3, 3), activation='relu', input_shape=(150, 150, 3)),\n",
    "    tf.keras.layers.MaxPooling2D(pool_size=(2, 2)),\n",
    "    \n",
    "    tf.keras.layers.Conv2D(64, (3, 3), activation='relu'),\n",
    "    tf.keras.layers.MaxPooling2D(pool_size=(2, 2)),\n",
    "    \n",
    "    tf.keras.layers.Conv2D(128, (3, 3), activation='relu'),\n",
    "    tf.keras.layers.MaxPooling2D(pool_size=(2, 2)),\n",
    "    \n",
    "    tf.keras.layers.Flatten(),\n",
    "    tf.keras.layers.Dense(128, activation='relu'),\n",
    "    tf.keras.layers.Dense(10, activation='softmax')\n",
    "])"
   ]
  },
  {
   "cell_type": "code",
   "execution_count": 8,
   "id": "52ed8b32",
   "metadata": {},
   "outputs": [
    {
     "name": "stdout",
     "output_type": "stream",
     "text": [
      "WARNING:tensorflow:From c:\\Users\\otice\\AppData\\Local\\Programs\\Python\\Python311\\Lib\\site-packages\\keras\\src\\optimizers\\__init__.py:309: The name tf.train.Optimizer is deprecated. Please use tf.compat.v1.train.Optimizer instead.\n",
      "\n"
     ]
    }
   ],
   "source": [
    "modelo.compile(optimizer='adam', \n",
    "              loss='categorical_crossentropy', \n",
    "              metrics=['accuracy'])"
   ]
  },
  {
   "cell_type": "code",
   "execution_count": 9,
   "id": "4149bc50",
   "metadata": {},
   "outputs": [
    {
     "name": "stdout",
     "output_type": "stream",
     "text": [
      "Epoch 1/10\n",
      "WARNING:tensorflow:From c:\\Users\\otice\\AppData\\Local\\Programs\\Python\\Python311\\Lib\\site-packages\\keras\\src\\utils\\tf_utils.py:492: The name tf.ragged.RaggedTensorValue is deprecated. Please use tf.compat.v1.ragged.RaggedTensorValue instead.\n",
      "\n",
      "WARNING:tensorflow:From c:\\Users\\otice\\AppData\\Local\\Programs\\Python\\Python311\\Lib\\site-packages\\keras\\src\\engine\\base_layer_utils.py:384: The name tf.executing_eagerly_outside_functions is deprecated. Please use tf.compat.v1.executing_eagerly_outside_functions instead.\n",
      "\n",
      "3/3 [==============================] - 5s 1s/step - loss: 3.2316 - accuracy: 0.0769 - val_loss: 2.3552 - val_accuracy: 0.1765\n",
      "Epoch 2/10\n",
      "3/3 [==============================] - 3s 851ms/step - loss: 2.3555 - accuracy: 0.1648 - val_loss: 2.3023 - val_accuracy: 0.1176\n",
      "Epoch 3/10\n",
      "3/3 [==============================] - 2s 658ms/step - loss: 2.3196 - accuracy: 0.0440 - val_loss: 2.2646 - val_accuracy: 0.1765\n",
      "Epoch 4/10\n",
      "3/3 [==============================] - 2s 667ms/step - loss: 2.2551 - accuracy: 0.1429 - val_loss: 2.2097 - val_accuracy: 0.1765\n",
      "Epoch 5/10\n",
      "3/3 [==============================] - 2s 662ms/step - loss: 2.2089 - accuracy: 0.2857 - val_loss: 2.1046 - val_accuracy: 0.4118\n",
      "Epoch 6/10\n",
      "3/3 [==============================] - 2s 655ms/step - loss: 2.0007 - accuracy: 0.4176 - val_loss: 1.8712 - val_accuracy: 0.4706\n",
      "Epoch 7/10\n",
      "3/3 [==============================] - 2s 645ms/step - loss: 1.5934 - accuracy: 0.5934 - val_loss: 1.4122 - val_accuracy: 0.5882\n",
      "Epoch 8/10\n",
      "3/3 [==============================] - 2s 654ms/step - loss: 1.0269 - accuracy: 0.6593 - val_loss: 0.9559 - val_accuracy: 0.5882\n",
      "Epoch 9/10\n",
      "3/3 [==============================] - 2s 592ms/step - loss: 0.5896 - accuracy: 0.8022 - val_loss: 0.7916 - val_accuracy: 0.6471\n",
      "Epoch 10/10\n",
      "3/3 [==============================] - 2s 711ms/step - loss: 0.3437 - accuracy: 0.9011 - val_loss: 1.0244 - val_accuracy: 0.7059\n"
     ]
    }
   ],
   "source": [
    "historial = modelo.fit(\n",
    "    entrenamiento,\n",
    "    validation_data=validacion,\n",
    "    epochs=10\n",
    ")"
   ]
  },
  {
   "cell_type": "code",
   "execution_count": 10,
   "id": "4d93d198",
   "metadata": {},
   "outputs": [
    {
     "name": "stdout",
     "output_type": "stream",
     "text": [
      "1/1 [==============================] - 0s 171ms/step - loss: 1.0244 - accuracy: 0.7059\n",
      "Validation accuracy: 70.59%\n"
     ]
    }
   ],
   "source": [
    "val_perd, val_prec = modelo.evaluate(validacion)\n",
    "print(f'Validation accuracy: {val_prec * 100:.2f}%')"
   ]
  },
  {
   "cell_type": "code",
   "execution_count": 11,
   "id": "0246d095",
   "metadata": {},
   "outputs": [
    {
     "name": "stderr",
     "output_type": "stream",
     "text": [
      "c:\\Users\\otice\\AppData\\Local\\Programs\\Python\\Python311\\Lib\\site-packages\\keras\\src\\engine\\training.py:3103: UserWarning: You are saving your model as an HDF5 file via `model.save()`. This file format is considered legacy. We recommend using instead the native Keras format, e.g. `model.save('my_model.keras')`.\n",
      "  saving_api.save_model(\n"
     ]
    }
   ],
   "source": [
    "modelo.save('firmodelo.h5')"
   ]
  },
  {
   "cell_type": "code",
   "execution_count": 12,
   "id": "5f0bcad2",
   "metadata": {},
   "outputs": [],
   "source": [
    "from keras.models import load_model\n",
    "\n",
    "# Cargar el modelo previamente guardado\n",
    "modelow = load_model('firmodelo.h5')"
   ]
  },
  {
   "cell_type": "code",
   "execution_count": 13,
   "id": "7e0e0396",
   "metadata": {},
   "outputs": [],
   "source": [
    "def prepro_entrada(ruta_img):\n",
    "    img = image.load_img(ruta_img, target_size=(150, 150))\n",
    "    arr_image = image.img_to_array(img)\n",
    "    arr_image = arr_image / 255.0\n",
    "    arr_image = np.expand_dims(arr_image, axis=0)\n",
    "    return arr_image"
   ]
  },
  {
   "cell_type": "code",
   "execution_count": 15,
   "id": "f10a9054",
   "metadata": {},
   "outputs": [
    {
     "name": "stdout",
     "output_type": "stream",
     "text": [
      "1/1 [==============================] - 0s 41ms/step\n",
      "Predicción: 065\n"
     ]
    }
   ],
   "source": [
    "ruta_img = 'C:\\\\Users\\\\otice\\\\Downloads\\\\ReFirm\\\\datasign\\\\test\\\\065\\\\01_065.PNG'\n",
    "img_procesada = prepro_entrada(ruta_img)\n",
    "predic = modelow.predict(img_procesada)\n",
    "clase = np.argmax(predic, axis=1)\n",
    "\n",
    "print(f'Predicción: {etiquetas[clase[0]]}')"
   ]
  }
 ],
 "metadata": {
  "kernelspec": {
   "display_name": "Python 3",
   "language": "python",
   "name": "python3"
  },
  "language_info": {
   "codemirror_mode": {
    "name": "ipython",
    "version": 3
   },
   "file_extension": ".py",
   "mimetype": "text/x-python",
   "name": "python",
   "nbconvert_exporter": "python",
   "pygments_lexer": "ipython3",
   "version": "3.11.0"
  }
 },
 "nbformat": 4,
 "nbformat_minor": 5
}
